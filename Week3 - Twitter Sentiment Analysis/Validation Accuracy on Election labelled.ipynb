{
 "cells": [
  {
   "cell_type": "code",
   "execution_count": 1,
   "metadata": {},
   "outputs": [
    {
     "data": {
      "text/html": [
       "<div>\n",
       "<style scoped>\n",
       "    .dataframe tbody tr th:only-of-type {\n",
       "        vertical-align: middle;\n",
       "    }\n",
       "\n",
       "    .dataframe tbody tr th {\n",
       "        vertical-align: top;\n",
       "    }\n",
       "\n",
       "    .dataframe thead th {\n",
       "        text-align: right;\n",
       "    }\n",
       "</style>\n",
       "<table border=\"1\" class=\"dataframe\">\n",
       "  <thead>\n",
       "    <tr style=\"text-align: right;\">\n",
       "      <th></th>\n",
       "      <th>Unnamed: 0</th>\n",
       "      <th>Unnamed: 0.1</th>\n",
       "      <th>Datetime</th>\n",
       "      <th>Tweet Id</th>\n",
       "      <th>Text</th>\n",
       "      <th>Tweet_tokenized</th>\n",
       "      <th>sentiment</th>\n",
       "    </tr>\n",
       "  </thead>\n",
       "  <tbody>\n",
       "    <tr>\n",
       "      <th>0</th>\n",
       "      <td>0</td>\n",
       "      <td>0</td>\n",
       "      <td>2020-06-22 18:59:35</td>\n",
       "      <td>1275141399638310914</td>\n",
       "      <td>rig  election  million OF mail in ballot w...</td>\n",
       "      <td>['rig', 'election', 'million', 'OF', 'mail', '...</td>\n",
       "      <td>negative</td>\n",
       "    </tr>\n",
       "    <tr>\n",
       "      <th>1</th>\n",
       "      <td>1</td>\n",
       "      <td>1</td>\n",
       "      <td>2020-06-22 18:58:17</td>\n",
       "      <td>1275141071316619270</td>\n",
       "      <td>barr  mail in ballot  absolut open floodga...</td>\n",
       "      <td>['barr', 'mail', 'in', 'ballot', 'absolut', 'o...</td>\n",
       "      <td>neutral</td>\n",
       "    </tr>\n",
       "    <tr>\n",
       "      <th>2</th>\n",
       "      <td>2</td>\n",
       "      <td>2</td>\n",
       "      <td>2020-06-22 18:58:00</td>\n",
       "      <td>1275141003050135553</td>\n",
       "      <td>rig  election  million OF mail in ballot w...</td>\n",
       "      <td>['rig', 'election', 'million', 'OF', 'mail', '...</td>\n",
       "      <td>negative</td>\n",
       "    </tr>\n",
       "    <tr>\n",
       "      <th>3</th>\n",
       "      <td>3</td>\n",
       "      <td>3</td>\n",
       "      <td>2020-06-22 18:57:00</td>\n",
       "      <td>1275140748401401859</td>\n",
       "      <td>becaus mail in ballots   rig elect nation ...</td>\n",
       "      <td>['becaus', 'mail', 'in', 'ballots', 'rig', 'el...</td>\n",
       "      <td>negative</td>\n",
       "    </tr>\n",
       "    <tr>\n",
       "      <th>4</th>\n",
       "      <td>4</td>\n",
       "      <td>4</td>\n",
       "      <td>2020-06-22 18:54:42</td>\n",
       "      <td>1275140171483226115</td>\n",
       "      <td>ekww  oklahoma    primari elect    june    a...</td>\n",
       "      <td>['ekww', 'oklahoma', 'primari', 'elect', 'june...</td>\n",
       "      <td>positive</td>\n",
       "    </tr>\n",
       "  </tbody>\n",
       "</table>\n",
       "</div>"
      ],
      "text/plain": [
       "   Unnamed: 0  Unnamed: 0.1             Datetime             Tweet Id  \\\n",
       "0           0             0  2020-06-22 18:59:35  1275141399638310914   \n",
       "1           1             1  2020-06-22 18:58:17  1275141071316619270   \n",
       "2           2             2  2020-06-22 18:58:00  1275141003050135553   \n",
       "3           3             3  2020-06-22 18:57:00  1275140748401401859   \n",
       "4           4             4  2020-06-22 18:54:42  1275140171483226115   \n",
       "\n",
       "                                                Text  \\\n",
       "0      rig  election  million OF mail in ballot w...   \n",
       "1      barr  mail in ballot  absolut open floodga...   \n",
       "2      rig  election  million OF mail in ballot w...   \n",
       "3      becaus mail in ballots   rig elect nation ...   \n",
       "4    ekww  oklahoma    primari elect    june    a...   \n",
       "\n",
       "                                     Tweet_tokenized sentiment  \n",
       "0  ['rig', 'election', 'million', 'OF', 'mail', '...  negative  \n",
       "1  ['barr', 'mail', 'in', 'ballot', 'absolut', 'o...   neutral  \n",
       "2  ['rig', 'election', 'million', 'OF', 'mail', '...  negative  \n",
       "3  ['becaus', 'mail', 'in', 'ballots', 'rig', 'el...  negative  \n",
       "4  ['ekww', 'oklahoma', 'primari', 'elect', 'june...  positive  "
      ]
     },
     "execution_count": 1,
     "metadata": {},
     "output_type": "execute_result"
    }
   ],
   "source": [
    "import pandas as pd\n",
    "import numpy as np\n",
    "import seaborn as sns\n",
    "import matplotlib.pyplot as plt\n",
    "import nltk\n",
    "import warnings\n",
    "warnings.filterwarnings(\"ignore\")\n",
    "\n",
    "df = pd.read_csv(\"Election labelled.csv\")\n",
    "df.head()"
   ]
  },
  {
   "cell_type": "code",
   "execution_count": 2,
   "metadata": {},
   "outputs": [
    {
     "data": {
      "text/plain": [
       "(200, 7)"
      ]
     },
     "execution_count": 2,
     "metadata": {},
     "output_type": "execute_result"
    }
   ],
   "source": [
    "df.shape"
   ]
  },
  {
   "cell_type": "code",
   "execution_count": 3,
   "metadata": {},
   "outputs": [
    {
     "name": "stdout",
     "output_type": "stream",
     "text": [
      "<class 'pandas.core.frame.DataFrame'>\n",
      "RangeIndex: 200 entries, 0 to 199\n",
      "Data columns (total 7 columns):\n",
      "Unnamed: 0         200 non-null int64\n",
      "Unnamed: 0.1       200 non-null int64\n",
      "Datetime           200 non-null object\n",
      "Tweet Id           200 non-null int64\n",
      "Text               200 non-null object\n",
      "Tweet_tokenized    200 non-null object\n",
      "sentiment          200 non-null object\n",
      "dtypes: int64(3), object(4)\n",
      "memory usage: 11.1+ KB\n"
     ]
    }
   ],
   "source": [
    "df.info()"
   ]
  },
  {
   "cell_type": "code",
   "execution_count": 4,
   "metadata": {},
   "outputs": [
    {
     "data": {
      "text/plain": [
       "<matplotlib.axes._subplots.AxesSubplot at 0x28f28df1860>"
      ]
     },
     "execution_count": 4,
     "metadata": {},
     "output_type": "execute_result"
    },
    {
     "data": {
      "image/png": "[encoded data removed]",
      "text/plain": [
       "<Figure size 432x288 with 1 Axes>"
      ]
     },
     "metadata": {
      "needs_background": "light"
     },
     "output_type": "display_data"
    }
   ],
   "source": [
    "sns.countplot(df['sentiment'])"
   ]
  },
  {
   "cell_type": "code",
   "execution_count": 6,
   "metadata": {},
   "outputs": [
    {
     "data": {
      "text/html": [
       "<div>\n",
       "<style scoped>\n",
       "    .dataframe tbody tr th:only-of-type {\n",
       "        vertical-align: middle;\n",
       "    }\n",
       "\n",
       "    .dataframe tbody tr th {\n",
       "        vertical-align: top;\n",
       "    }\n",
       "\n",
       "    .dataframe thead th {\n",
       "        text-align: right;\n",
       "    }\n",
       "</style>\n",
       "<table border=\"1\" class=\"dataframe\">\n",
       "  <thead>\n",
       "    <tr style=\"text-align: right;\">\n",
       "      <th></th>\n",
       "      <th>Unnamed: 0</th>\n",
       "      <th>Unnamed: 0.1</th>\n",
       "      <th>Datetime</th>\n",
       "      <th>Tweet Id</th>\n",
       "      <th>Text</th>\n",
       "      <th>Tweet_tokenized</th>\n",
       "      <th>sentiment</th>\n",
       "    </tr>\n",
       "  </thead>\n",
       "  <tbody>\n",
       "    <tr>\n",
       "      <th>0</th>\n",
       "      <td>0</td>\n",
       "      <td>0</td>\n",
       "      <td>2020-06-22 18:59:35</td>\n",
       "      <td>1275141399638310914</td>\n",
       "      <td>rig election million OF mail ballot BE print B...</td>\n",
       "      <td>['rig', 'election', 'million', 'OF', 'mail', '...</td>\n",
       "      <td>negative</td>\n",
       "    </tr>\n",
       "    <tr>\n",
       "      <th>1</th>\n",
       "      <td>1</td>\n",
       "      <td>1</td>\n",
       "      <td>2020-06-22 18:58:17</td>\n",
       "      <td>1275141071316619270</td>\n",
       "      <td>barr mail ballot absolut open floodgat fraud h...</td>\n",
       "      <td>['barr', 'mail', 'in', 'ballot', 'absolut', 'o...</td>\n",
       "      <td>neutral</td>\n",
       "    </tr>\n",
       "    <tr>\n",
       "      <th>2</th>\n",
       "      <td>2</td>\n",
       "      <td>2</td>\n",
       "      <td>2020-06-22 18:58:00</td>\n",
       "      <td>1275141003050135553</td>\n",
       "      <td>rig election million OF mail ballot BE print B...</td>\n",
       "      <td>['rig', 'election', 'million', 'OF', 'mail', '...</td>\n",
       "      <td>negative</td>\n",
       "    </tr>\n",
       "    <tr>\n",
       "      <th>3</th>\n",
       "      <td>3</td>\n",
       "      <td>3</td>\n",
       "      <td>2020-06-22 18:57:00</td>\n",
       "      <td>1275140748401401859</td>\n",
       "      <td>becaus mail ballots rig elect nation histori u...</td>\n",
       "      <td>['becaus', 'mail', 'in', 'ballots', 'rig', 'el...</td>\n",
       "      <td>negative</td>\n",
       "    </tr>\n",
       "    <tr>\n",
       "      <th>4</th>\n",
       "      <td>4</td>\n",
       "      <td>4</td>\n",
       "      <td>2020-06-22 18:54:42</td>\n",
       "      <td>1275140171483226115</td>\n",
       "      <td>ekww oklahoma primari elect june registered ht...</td>\n",
       "      <td>['ekww', 'oklahoma', 'primari', 'elect', 'june...</td>\n",
       "      <td>positive</td>\n",
       "    </tr>\n",
       "  </tbody>\n",
       "</table>\n",
       "</div>"
      ],
      "text/plain": [
       "   Unnamed: 0  Unnamed: 0.1             Datetime             Tweet Id  \\\n",
       "0           0             0  2020-06-22 18:59:35  1275141399638310914   \n",
       "1           1             1  2020-06-22 18:58:17  1275141071316619270   \n",
       "2           2             2  2020-06-22 18:58:00  1275141003050135553   \n",
       "3           3             3  2020-06-22 18:57:00  1275140748401401859   \n",
       "4           4             4  2020-06-22 18:54:42  1275140171483226115   \n",
       "\n",
       "                                                Text  \\\n",
       "0  rig election million OF mail ballot BE print B...   \n",
       "1  barr mail ballot absolut open floodgat fraud h...   \n",
       "2  rig election million OF mail ballot BE print B...   \n",
       "3  becaus mail ballots rig elect nation histori u...   \n",
       "4  ekww oklahoma primari elect june registered ht...   \n",
       "\n",
       "                                     Tweet_tokenized sentiment  \n",
       "0  ['rig', 'election', 'million', 'OF', 'mail', '...  negative  \n",
       "1  ['barr', 'mail', 'in', 'ballot', 'absolut', 'o...   neutral  \n",
       "2  ['rig', 'election', 'million', 'OF', 'mail', '...  negative  \n",
       "3  ['becaus', 'mail', 'in', 'ballots', 'rig', 'el...  negative  \n",
       "4  ['ekww', 'oklahoma', 'primari', 'elect', 'june...  positive  "
      ]
     },
     "execution_count": 6,
     "metadata": {},
     "output_type": "execute_result"
    }
   ],
   "source": [
    "import nltk #nlp library\n",
    "from nltk.corpus import stopwords\n",
    "stop = stopwords.words(\"english\")\n",
    "df['Text'] = df['Text'].apply(lambda x: \" \".join([word for word in x.split() if word not in (stop)]))\n",
    "df.head()"
   ]
  },
  {
   "cell_type": "code",
   "execution_count": 8,
   "metadata": {},
   "outputs": [],
   "source": [
    "#Stemming\n",
    "from nltk.stem import PorterStemmer\n",
    "ps = PorterStemmer()\n",
    "df['Text'] = df['Text'].apply(lambda x : ' '.join([ps.stem(word) for word in x.split()]))"
   ]
  },
  {
   "cell_type": "code",
   "execution_count": 9,
   "metadata": {},
   "outputs": [],
   "source": [
    "#Lemmatization\n",
    "from nltk.stem import WordNetLemmatizer\n",
    "lemma = WordNetLemmatizer()\n",
    "df['Text'] = df['Text'].apply(lambda x : ' '.join([lemma.lemmatize(word) for word in x.split()]))"
   ]
  },
  {
   "cell_type": "code",
   "execution_count": 11,
   "metadata": {},
   "outputs": [
    {
     "data": {
      "text/plain": [
       "0    fig elect million of mail ballot of print of f...\n",
       "1    bare mail ballot absolute open floodgat fraud ...\n",
       "2    fig elect million of mail ballot of print of f...\n",
       "3    beau mail ballot fig elect nation history unle...\n",
       "4    www oklahoma primary elect june resist http co...\n",
       "Name: Text, dtype: object"
      ]
     },
     "execution_count": 11,
     "metadata": {},
     "output_type": "execute_result"
    }
   ],
   "source": [
    "#Spell correction\n",
    "from textblob import TextBlob\n",
    "df['Text'][:5].apply(lambda x: str(TextBlob(x).correct()))"
   ]
  },
  {
   "cell_type": "code",
   "execution_count": 13,
   "metadata": {},
   "outputs": [
    {
     "data": {
      "text/plain": [
       "0    RIG ELECT MILLION OF MAIL BALLOT BE PRINT BY F...\n",
       "1    BARR MAIL BALLOT ABSOLUT OPEN FLOODGAT FRAUD H...\n",
       "2    RIG ELECT MILLION OF MAIL BALLOT BE PRINT BY F...\n",
       "3    BECAU MAIL BALLOT RIG ELECT NATION HISTORI UNL...\n",
       "4    EKWW OKLAHOMA PRIMARI ELECT JUNE REGIST HTTP C...\n",
       "Name: Text, dtype: object"
      ]
     },
     "execution_count": 13,
     "metadata": {},
     "output_type": "execute_result"
    }
   ],
   "source": [
    "df['Text'] = df['Text'].apply(lambda x: \" \".join([word.upper() for word in x.split()]))\n",
    "df['Text'].head()"
   ]
  },
  {
   "cell_type": "code",
   "execution_count": 15,
   "metadata": {},
   "outputs": [],
   "source": [
    "from sklearn.feature_extraction.text import TfidfVectorizer  \n",
    "tfidfconverter = TfidfVectorizer(max_features=379, max_df=0.7)  \n",
    "x = tfidfconverter.fit_transform(df['Text']).toarray()"
   ]
  },
  {
   "cell_type": "code",
   "execution_count": 16,
   "metadata": {},
   "outputs": [],
   "source": [
    "from sklearn.model_selection import train_test_split #for splitting the data\n",
    "from sklearn import metrics\n",
    "from sklearn.metrics import classification_report,accuracy_score,confusion_matrix\n",
    "\n",
    "y = df['sentiment']\n",
    "x_train,x_test,y_train,y_test = train_test_split(x,y,test_size=0.2,random_state=24)"
   ]
  },
  {
   "cell_type": "code",
   "execution_count": 17,
   "metadata": {},
   "outputs": [
    {
     "data": {
      "text/plain": [
       "0.925"
      ]
     },
     "execution_count": 17,
     "metadata": {},
     "output_type": "execute_result"
    }
   ],
   "source": [
    "from sklearn.linear_model import LogisticRegression\n",
    "from sklearn.model_selection import cross_val_score\n",
    "\n",
    "lr = LogisticRegression(max_iter = 1000000)\n",
    "#scores = cross_val_score(lr, x_train,y_train, cv=10)\n",
    "logreg = lr.fit(x_train,y_train)\n",
    "prediction = logreg.predict(x_test)\n",
    "metrics.accuracy_score(y_test,prediction)"
   ]
  },
  {
   "cell_type": "code",
   "execution_count": 18,
   "metadata": {},
   "outputs": [
    {
     "data": {
      "text/plain": [
       "array([[22,  0,  0],\n",
       "       [ 1,  6,  2],\n",
       "       [ 0,  0,  9]], dtype=int64)"
      ]
     },
     "execution_count": 18,
     "metadata": {},
     "output_type": "execute_result"
    }
   ],
   "source": [
    "metrics.confusion_matrix(y_test, prediction)"
   ]
  },
  {
   "cell_type": "code",
   "execution_count": 19,
   "metadata": {},
   "outputs": [
    {
     "name": "stdout",
     "output_type": "stream",
     "text": [
      "              precision    recall  f1-score   support\n",
      "\n",
      "    negative       0.96      1.00      0.98        22\n",
      "     neutral       1.00      0.67      0.80         9\n",
      "    positive       0.82      1.00      0.90         9\n",
      "\n",
      "    accuracy                           0.93        40\n",
      "   macro avg       0.92      0.89      0.89        40\n",
      "weighted avg       0.94      0.93      0.92        40\n",
      "\n"
     ]
    }
   ],
   "source": [
    "print(classification_report(y_test, prediction))"
   ]
  },
  {
   "cell_type": "code",
   "execution_count": 20,
   "metadata": {},
   "outputs": [
    {
     "data": {
      "text/plain": [
       "0.925"
      ]
     },
     "execution_count": 20,
     "metadata": {},
     "output_type": "execute_result"
    }
   ],
   "source": [
    "\n",
    "from sklearn.naive_bayes import MultinomialNB\n",
    "\n",
    "naive = MultinomialNB()\n",
    "naive.fit(x_train, y_train)\n",
    "prediction = naive.predict(x_test)\n",
    "\n",
    "metrics.accuracy_score(y_test, prediction)"
   ]
  },
  {
   "cell_type": "code",
   "execution_count": 21,
   "metadata": {},
   "outputs": [
    {
     "data": {
      "text/plain": [
       "array([[22,  0,  0],\n",
       "       [ 1,  6,  2],\n",
       "       [ 0,  0,  9]], dtype=int64)"
      ]
     },
     "execution_count": 21,
     "metadata": {},
     "output_type": "execute_result"
    }
   ],
   "source": [
    "metrics.confusion_matrix(y_test, prediction)"
   ]
  },
  {
   "cell_type": "code",
   "execution_count": 22,
   "metadata": {},
   "outputs": [
    {
     "name": "stdout",
     "output_type": "stream",
     "text": [
      "              precision    recall  f1-score   support\n",
      "\n",
      "    negative       0.96      1.00      0.98        22\n",
      "     neutral       1.00      0.67      0.80         9\n",
      "    positive       0.82      1.00      0.90         9\n",
      "\n",
      "    accuracy                           0.93        40\n",
      "   macro avg       0.92      0.89      0.89        40\n",
      "weighted avg       0.94      0.93      0.92        40\n",
      "\n"
     ]
    }
   ],
   "source": [
    "print(classification_report(y_test, prediction))"
   ]
  },
  {
   "cell_type": "code",
   "execution_count": 23,
   "metadata": {},
   "outputs": [
    {
     "name": "stdout",
     "output_type": "stream",
     "text": [
      "Accuracy\n",
      " 0.95\n",
      "\n",
      "\n",
      "COnfusion Matrix\n",
      " [[22  0  0]\n",
      " [ 0  7  2]\n",
      " [ 0  0  9]]\n",
      "\n",
      "\n",
      "Classification Report\n",
      "               precision    recall  f1-score   support\n",
      "\n",
      "    negative       1.00      1.00      1.00        22\n",
      "     neutral       1.00      0.78      0.88         9\n",
      "    positive       0.82      1.00      0.90         9\n",
      "\n",
      "    accuracy                           0.95        40\n",
      "   macro avg       0.94      0.93      0.92        40\n",
      "weighted avg       0.96      0.95      0.95        40\n",
      "\n"
     ]
    }
   ],
   "source": [
    "from xgboost import XGBClassifier\n",
    "xgb = XGBClassifier().fit(x_train, y_train)\n",
    "\n",
    "y_pred=xgb.predict(x_test)\n",
    "\n",
    "print(\"Accuracy\\n\",accuracy_score(y_test, y_pred))\n",
    "print(\"\\n\\nCOnfusion Matrix\\n\",confusion_matrix(y_test, y_pred))\n",
    "print(\"\\n\\nClassification Report\\n\",classification_report(y_test, y_pred))"
   ]
  },
  {
   "cell_type": "code",
   "execution_count": null,
   "metadata": {},
   "outputs": [],
   "source": []
  }
 ],
 "metadata": {
  "kernelspec": {
   "display_name": "Python 3",
   "language": "python",
   "name": "python3"
  },
  "language_info": {
   "codemirror_mode": {
    "name": "ipython",
    "version": 3
   },
   "file_extension": ".py",
   "mimetype": "text/x-python",
   "name": "python",
   "nbconvert_exporter": "python",
   "pygments_lexer": "ipython3",
   "version": "3.7.3"
  }
 },
 "nbformat": 4,
 "nbformat_minor": 2
}
