{
 "cells": [
  {
   "cell_type": "code",
   "execution_count": 4,
   "metadata": {},
   "outputs": [
    {
     "data": {
      "text/html": [
       "<div>\n",
       "<style scoped>\n",
       "    .dataframe tbody tr th:only-of-type {\n",
       "        vertical-align: middle;\n",
       "    }\n",
       "\n",
       "    .dataframe tbody tr th {\n",
       "        vertical-align: top;\n",
       "    }\n",
       "\n",
       "    .dataframe thead th {\n",
       "        text-align: right;\n",
       "    }\n",
       "</style>\n",
       "<table border=\"1\" class=\"dataframe\">\n",
       "  <thead>\n",
       "    <tr style=\"text-align: right;\">\n",
       "      <th></th>\n",
       "      <th>text</th>\n",
       "      <th>sentiment</th>\n",
       "    </tr>\n",
       "  </thead>\n",
       "  <tbody>\n",
       "    <tr>\n",
       "      <th>0</th>\n",
       "      <td>oh Marly, I`m so sorry!!  I hope you find her...</td>\n",
       "      <td>neutral</td>\n",
       "    </tr>\n",
       "    <tr>\n",
       "      <th>1</th>\n",
       "      <td>Playing Ghost Online is really interesting. Th...</td>\n",
       "      <td>positive</td>\n",
       "    </tr>\n",
       "    <tr>\n",
       "      <th>2</th>\n",
       "      <td>is cleaning the house for her family who is co...</td>\n",
       "      <td>neutral</td>\n",
       "    </tr>\n",
       "    <tr>\n",
       "      <th>3</th>\n",
       "      <td>gotta restart my computer .. I thought Win7 wa...</td>\n",
       "      <td>neutral</td>\n",
       "    </tr>\n",
       "    <tr>\n",
       "      <th>4</th>\n",
       "      <td>SEe waT I Mean bOuT FoLL0w fRiiDaYs... It`S cA...</td>\n",
       "      <td>neutral</td>\n",
       "    </tr>\n",
       "  </tbody>\n",
       "</table>\n",
       "</div>"
      ],
      "text/plain": [
       "                                                text sentiment\n",
       "0   oh Marly, I`m so sorry!!  I hope you find her...   neutral\n",
       "1  Playing Ghost Online is really interesting. Th...  positive\n",
       "2  is cleaning the house for her family who is co...   neutral\n",
       "3  gotta restart my computer .. I thought Win7 wa...   neutral\n",
       "4  SEe waT I Mean bOuT FoLL0w fRiiDaYs... It`S cA...   neutral"
      ]
     },
     "execution_count": 4,
     "metadata": {},
     "output_type": "execute_result"
    }
   ],
   "source": [
    "import pandas as pd\n",
    "import numpy as np\n",
    "import seaborn as sns\n",
    "import matplotlib.pyplot as plt\n",
    "import nltk\n",
    "import warnings\n",
    "warnings.filterwarnings(\"ignore\")\n",
    "\n",
    "df = pd.read_csv(\"train.csv\")\n",
    "df.head()"
   ]
  },
  {
   "cell_type": "code",
   "execution_count": 5,
   "metadata": {},
   "outputs": [
    {
     "data": {
      "text/plain": [
       "(27448, 2)"
      ]
     },
     "execution_count": 5,
     "metadata": {},
     "output_type": "execute_result"
    }
   ],
   "source": [
    "df.shape"
   ]
  },
  {
   "cell_type": "code",
   "execution_count": 6,
   "metadata": {},
   "outputs": [
    {
     "name": "stdout",
     "output_type": "stream",
     "text": [
      "<class 'pandas.core.frame.DataFrame'>\n",
      "RangeIndex: 27448 entries, 0 to 27447\n",
      "Data columns (total 2 columns):\n",
      "text         27447 non-null object\n",
      "sentiment    27448 non-null object\n",
      "dtypes: object(2)\n",
      "memory usage: 429.0+ KB\n"
     ]
    }
   ],
   "source": [
    "df.info()"
   ]
  },
  {
   "cell_type": "code",
   "execution_count": 7,
   "metadata": {},
   "outputs": [
    {
     "data": {
      "text/plain": [
       "(27447, 2)"
      ]
     },
     "execution_count": 7,
     "metadata": {},
     "output_type": "execute_result"
    }
   ],
   "source": [
    "df.dropna(axis = 0,inplace = True)\n",
    "df.shape"
   ]
  },
  {
   "cell_type": "code",
   "execution_count": 8,
   "metadata": {},
   "outputs": [
    {
     "data": {
      "text/plain": [
       "<matplotlib.axes._subplots.AxesSubplot at 0x2947c4ad438>"
      ]
     },
     "execution_count": 8,
     "metadata": {},
     "output_type": "execute_result"
    },
    {
     "data": {
      "image/png": "[encoded data removed]",
      "text/plain": [
       "<Figure size 432x288 with 1 Axes>"
      ]
     },
     "metadata": {
      "needs_background": "light"
     },
     "output_type": "display_data"
    }
   ],
   "source": [
    "sns.countplot(df['sentiment'])"
   ]
  },
  {
   "cell_type": "code",
   "execution_count": 9,
   "metadata": {},
   "outputs": [
    {
     "data": {
      "text/html": [
       "<div>\n",
       "<style scoped>\n",
       "    .dataframe tbody tr th:only-of-type {\n",
       "        vertical-align: middle;\n",
       "    }\n",
       "\n",
       "    .dataframe tbody tr th {\n",
       "        vertical-align: top;\n",
       "    }\n",
       "\n",
       "    .dataframe thead th {\n",
       "        text-align: right;\n",
       "    }\n",
       "</style>\n",
       "<table border=\"1\" class=\"dataframe\">\n",
       "  <thead>\n",
       "    <tr style=\"text-align: right;\">\n",
       "      <th></th>\n",
       "      <th>text</th>\n",
       "      <th>sentiment</th>\n",
       "    </tr>\n",
       "  </thead>\n",
       "  <tbody>\n",
       "    <tr>\n",
       "      <th>0</th>\n",
       "      <td>oh Marly, I`m sorry!! I hope find soon!! &lt;3 &lt;3</td>\n",
       "      <td>neutral</td>\n",
       "    </tr>\n",
       "    <tr>\n",
       "      <th>1</th>\n",
       "      <td>Playing Ghost Online really interesting. The n...</td>\n",
       "      <td>positive</td>\n",
       "    </tr>\n",
       "    <tr>\n",
       "      <th>2</th>\n",
       "      <td>cleaning house family comming later today..</td>\n",
       "      <td>neutral</td>\n",
       "    </tr>\n",
       "    <tr>\n",
       "      <th>3</th>\n",
       "      <td>gotta restart computer .. I thought Win7 suppo...</td>\n",
       "      <td>neutral</td>\n",
       "    </tr>\n",
       "    <tr>\n",
       "      <th>4</th>\n",
       "      <td>SEe waT I Mean bOuT FoLL0w fRiiDaYs... It`S cA...</td>\n",
       "      <td>neutral</td>\n",
       "    </tr>\n",
       "  </tbody>\n",
       "</table>\n",
       "</div>"
      ],
      "text/plain": [
       "                                                text sentiment\n",
       "0     oh Marly, I`m sorry!! I hope find soon!! <3 <3   neutral\n",
       "1  Playing Ghost Online really interesting. The n...  positive\n",
       "2        cleaning house family comming later today..   neutral\n",
       "3  gotta restart computer .. I thought Win7 suppo...   neutral\n",
       "4  SEe waT I Mean bOuT FoLL0w fRiiDaYs... It`S cA...   neutral"
      ]
     },
     "execution_count": 9,
     "metadata": {},
     "output_type": "execute_result"
    }
   ],
   "source": [
    "#removal of stop words\n",
    "import nltk #nlp library\n",
    "#nltk.download('stopwords')\n",
    "from nltk.corpus import stopwords\n",
    "stop = stopwords.words(\"english\")\n",
    "df['text'] = df['text'].apply(lambda x: \" \".join([word for word in x.split() if word not in (stop)]))\n",
    "df.head()"
   ]
  },
  {
   "cell_type": "code",
   "execution_count": 11,
   "metadata": {},
   "outputs": [],
   "source": [
    "#Stemming\n",
    "from nltk.stem import PorterStemmer\n",
    "#nltk.download('punkt')\n",
    "ps = PorterStemmer()\n",
    "df['text'] = df['text'].apply(lambda x : ' '.join([ps.stem(word) for word in x.split()]))\n",
    "#df.head()"
   ]
  },
  {
   "cell_type": "code",
   "execution_count": 12,
   "metadata": {},
   "outputs": [],
   "source": [
    "\n",
    "#Lemmatization\n",
    "from nltk.stem import WordNetLemmatizer\n",
    "#nltk.download('wordnet')\n",
    "lemma = WordNetLemmatizer()\n",
    "df['text'] = df['text'].apply(lambda x : ' '.join([lemma.lemmatize(word) for word in x.split()]))"
   ]
  },
  {
   "cell_type": "code",
   "execution_count": 13,
   "metadata": {},
   "outputs": [],
   "source": [
    "#removing punctuation\n",
    "import re\n",
    "def remove_punct(text):\n",
    "    text = re.sub('http://[A-Za-z0-9./]+','',text) #removes any https links\n",
    "    text = re.sub('[0-9]', '',text) #removes numbers\n",
    "    text = re.sub(\"[^a-zA-Z0-9]\", \" \",text) #removes special characters\n",
    "    return text\n",
    "df['text'] = df['text'].apply(remove_punct)"
   ]
  },
  {
   "cell_type": "code",
   "execution_count": 14,
   "metadata": {},
   "outputs": [
    {
     "data": {
      "text/plain": [
       "0          oh mary  i m sorry   I hope find soon      \n",
       "1    play ghost online really interesting  the new ...\n",
       "2                   clean you family com later today  \n",
       "3    gutta start compute    I thought win support p...\n",
       "4    see wat I mean bout follow friday    it  call ...\n",
       "Name: text, dtype: object"
      ]
     },
     "execution_count": 14,
     "metadata": {},
     "output_type": "execute_result"
    }
   ],
   "source": [
    "from textblob import TextBlob\n",
    "df['text'][:5].apply(lambda x: str(TextBlob(x).correct()))"
   ]
  },
  {
   "cell_type": "code",
   "execution_count": 15,
   "metadata": {},
   "outputs": [
    {
     "data": {
      "text/plain": [
       "0                  OH MARLY I M SORRY I HOPE FIND SOON\n",
       "1    PLAY GHOST ONLIN REALLI INTERESTING THE NEW UP...\n",
       "2                     CLEAN HOU FAMILI COM LATER TODAY\n",
       "3    GOTTA RESTART COMPUT I THOUGHT WIN SUPPO PUT E...\n",
       "4    SEE WAT I MEAN BOUT FOLLW FRIIDAYS IT CALL LOS...\n",
       "Name: text, dtype: object"
      ]
     },
     "execution_count": 15,
     "metadata": {},
     "output_type": "execute_result"
    }
   ],
   "source": [
    "df['text'] = df['text'].apply(lambda x: \" \".join([word.upper() for word in x.split()]))\n",
    "df['text'].head()"
   ]
  },
  {
   "cell_type": "code",
   "execution_count": 16,
   "metadata": {},
   "outputs": [
    {
     "data": {
      "text/html": [
       "<div>\n",
       "<style scoped>\n",
       "    .dataframe tbody tr th:only-of-type {\n",
       "        vertical-align: middle;\n",
       "    }\n",
       "\n",
       "    .dataframe tbody tr th {\n",
       "        vertical-align: top;\n",
       "    }\n",
       "\n",
       "    .dataframe thead th {\n",
       "        text-align: right;\n",
       "    }\n",
       "</style>\n",
       "<table border=\"1\" class=\"dataframe\">\n",
       "  <thead>\n",
       "    <tr style=\"text-align: right;\">\n",
       "      <th></th>\n",
       "      <th>text</th>\n",
       "      <th>sentiment</th>\n",
       "      <th>tokenized</th>\n",
       "    </tr>\n",
       "  </thead>\n",
       "  <tbody>\n",
       "    <tr>\n",
       "      <th>0</th>\n",
       "      <td>OH MARLY I M SORRY I HOPE FIND SOON</td>\n",
       "      <td>neutral</td>\n",
       "      <td>[OH, MARLY, I, M, SORRY, I, HOPE, FIND, SOON]</td>\n",
       "    </tr>\n",
       "    <tr>\n",
       "      <th>1</th>\n",
       "      <td>PLAY GHOST ONLIN REALLI INTERESTING THE NEW UP...</td>\n",
       "      <td>positive</td>\n",
       "      <td>[PLAY, GHOST, ONLIN, REALLI, INTERESTING, THE,...</td>\n",
       "    </tr>\n",
       "    <tr>\n",
       "      <th>2</th>\n",
       "      <td>CLEAN HOU FAMILI COM LATER TODAY</td>\n",
       "      <td>neutral</td>\n",
       "      <td>[CLEAN, HOU, FAMILI, COM, LATER, TODAY]</td>\n",
       "    </tr>\n",
       "    <tr>\n",
       "      <th>3</th>\n",
       "      <td>GOTTA RESTART COMPUT I THOUGHT WIN SUPPO PUT E...</td>\n",
       "      <td>neutral</td>\n",
       "      <td>[GOTTA, RESTART, COMPUT, I, THOUGHT, WIN, SUPP...</td>\n",
       "    </tr>\n",
       "    <tr>\n",
       "      <th>4</th>\n",
       "      <td>SEE WAT I MEAN BOUT FOLLW FRIIDAYS IT CALL LOS...</td>\n",
       "      <td>neutral</td>\n",
       "      <td>[SEE, WAT, I, MEAN, BOUT, FOLLW, FRIIDAYS, IT,...</td>\n",
       "    </tr>\n",
       "  </tbody>\n",
       "</table>\n",
       "</div>"
      ],
      "text/plain": [
       "                                                text sentiment  \\\n",
       "0                OH MARLY I M SORRY I HOPE FIND SOON   neutral   \n",
       "1  PLAY GHOST ONLIN REALLI INTERESTING THE NEW UP...  positive   \n",
       "2                   CLEAN HOU FAMILI COM LATER TODAY   neutral   \n",
       "3  GOTTA RESTART COMPUT I THOUGHT WIN SUPPO PUT E...   neutral   \n",
       "4  SEE WAT I MEAN BOUT FOLLW FRIIDAYS IT CALL LOS...   neutral   \n",
       "\n",
       "                                           tokenized  \n",
       "0      [OH, MARLY, I, M, SORRY, I, HOPE, FIND, SOON]  \n",
       "1  [PLAY, GHOST, ONLIN, REALLI, INTERESTING, THE,...  \n",
       "2            [CLEAN, HOU, FAMILI, COM, LATER, TODAY]  \n",
       "3  [GOTTA, RESTART, COMPUT, I, THOUGHT, WIN, SUPP...  \n",
       "4  [SEE, WAT, I, MEAN, BOUT, FOLLW, FRIIDAYS, IT,...  "
      ]
     },
     "execution_count": 16,
     "metadata": {},
     "output_type": "execute_result"
    }
   ],
   "source": [
    "from nltk.tokenize import TweetTokenizer\n",
    "tknzr = TweetTokenizer()\n",
    "def token(text):\n",
    "    return tknzr.tokenize(text)\n",
    "df['tokenized'] = df['text'].apply(token) \n",
    "df.head()"
   ]
  },
  {
   "cell_type": "code",
   "execution_count": 17,
   "metadata": {},
   "outputs": [],
   "source": [
    "\n",
    "#label encoding\n",
    "df['sentiment'] = df['sentiment'].map({'neutral':0,'positive':1,'negative':2})"
   ]
  },
  {
   "cell_type": "code",
   "execution_count": 44,
   "metadata": {},
   "outputs": [],
   "source": [
    "#With Tfidftransformer we can systematically compute word counts using CountVectorizer and then compute the Tf-idf scores followed by IDF values.\n",
    "#With Tfidfvectorizer it computes the word counts, IDF values, and Tf-idf scores all 3 using the same dataset.\n",
    "\n",
    "from sklearn.feature_extraction.text import TfidfVectorizer  \n",
    "tfidfconverter = TfidfVectorizer(max_features=379, max_df=0.7)  \n",
    "x = tfidfconverter.fit_transform(df['text']).toarray() #this is x(used to train the model)that has text converted to vectors\n"
   ]
  },
  {
   "cell_type": "code",
   "execution_count": 45,
   "metadata": {},
   "outputs": [],
   "source": [
    "from sklearn.model_selection import train_test_split #for splitting the data\n",
    "from sklearn import metrics\n",
    "from sklearn.metrics import classification_report,accuracy_score,confusion_matrix\n",
    "\n",
    "y = df['sentiment']\n",
    "x_train,x_test,y_train,y_test = train_test_split(x,y,test_size=0.2,random_state=101)"
   ]
  },
  {
   "cell_type": "code",
   "execution_count": 46,
   "metadata": {},
   "outputs": [
    {
     "data": {
      "text/plain": [
       "0.6608378870673952"
      ]
     },
     "execution_count": 46,
     "metadata": {},
     "output_type": "execute_result"
    }
   ],
   "source": [
    "from sklearn.linear_model import LogisticRegression\n",
    "from sklearn.model_selection import cross_val_score\n",
    "\n",
    "lr = LogisticRegression(max_iter = 1000000)\n",
    "#scores = cross_val_score(lr, x_train,y_train, cv=10)\n",
    "logreg = lr.fit(x_train,y_train)\n",
    "prediction = logreg.predict(x_test)\n",
    "metrics.accuracy_score(y_test,prediction)"
   ]
  },
  {
   "cell_type": "code",
   "execution_count": 47,
   "metadata": {},
   "outputs": [
    {
     "data": {
      "text/plain": [
       "array([[1698,  262,  287],\n",
       "       [ 505, 1189,   79],\n",
       "       [ 633,   96,  741]], dtype=int64)"
      ]
     },
     "execution_count": 47,
     "metadata": {},
     "output_type": "execute_result"
    }
   ],
   "source": [
    "metrics.confusion_matrix(y_test, prediction)"
   ]
  },
  {
   "cell_type": "code",
   "execution_count": 48,
   "metadata": {},
   "outputs": [
    {
     "name": "stdout",
     "output_type": "stream",
     "text": [
      "              precision    recall  f1-score   support\n",
      "\n",
      "           0       0.60      0.76      0.67      2247\n",
      "           1       0.77      0.67      0.72      1773\n",
      "           2       0.67      0.50      0.58      1470\n",
      "\n",
      "    accuracy                           0.66      5490\n",
      "   macro avg       0.68      0.64      0.65      5490\n",
      "weighted avg       0.67      0.66      0.66      5490\n",
      "\n"
     ]
    }
   ],
   "source": [
    "\n",
    "print(classification_report(y_test, prediction))"
   ]
  },
  {
   "cell_type": "code",
   "execution_count": 23,
   "metadata": {},
   "outputs": [
    {
     "data": {
      "text/html": [
       "<div>\n",
       "<style scoped>\n",
       "    .dataframe tbody tr th:only-of-type {\n",
       "        vertical-align: middle;\n",
       "    }\n",
       "\n",
       "    .dataframe tbody tr th {\n",
       "        vertical-align: top;\n",
       "    }\n",
       "\n",
       "    .dataframe thead th {\n",
       "        text-align: right;\n",
       "    }\n",
       "</style>\n",
       "<table border=\"1\" class=\"dataframe\">\n",
       "  <thead>\n",
       "    <tr style=\"text-align: right;\">\n",
       "      <th></th>\n",
       "      <th>Unnamed: 0</th>\n",
       "      <th>Datetime</th>\n",
       "      <th>Tweet Id</th>\n",
       "      <th>Text</th>\n",
       "    </tr>\n",
       "  </thead>\n",
       "  <tbody>\n",
       "    <tr>\n",
       "      <th>0</th>\n",
       "      <td>0</td>\n",
       "      <td>2020-06-22 18:59:35</td>\n",
       "      <td>1275141399638310914</td>\n",
       "      <td>RT @realDonaldTrump: RIGGED 2020 ELECTION: MIL...</td>\n",
       "    </tr>\n",
       "    <tr>\n",
       "      <th>1</th>\n",
       "      <td>1</td>\n",
       "      <td>2020-06-22 18:58:17</td>\n",
       "      <td>1275141071316619270</td>\n",
       "      <td>RT @realDonaldTrump: Barr: Mail-in Ballots ‘Ab...</td>\n",
       "    </tr>\n",
       "    <tr>\n",
       "      <th>2</th>\n",
       "      <td>2</td>\n",
       "      <td>2020-06-22 18:58:00</td>\n",
       "      <td>1275141003050135553</td>\n",
       "      <td>RT @realDonaldTrump: RIGGED 2020 ELECTION: MIL...</td>\n",
       "    </tr>\n",
       "    <tr>\n",
       "      <th>3</th>\n",
       "      <td>3</td>\n",
       "      <td>2020-06-22 18:57:00</td>\n",
       "      <td>1275140748401401859</td>\n",
       "      <td>RT @realDonaldTrump: Because of MAIL-IN BALLOT...</td>\n",
       "    </tr>\n",
       "    <tr>\n",
       "      <th>4</th>\n",
       "      <td>4</td>\n",
       "      <td>2020-06-22 18:54:42</td>\n",
       "      <td>1275140171483226115</td>\n",
       "      <td>RT @ekww11: OKLAHOMA ⛅⚡\\n\\nPrimary Election 🇺🇸...</td>\n",
       "    </tr>\n",
       "  </tbody>\n",
       "</table>\n",
       "</div>"
      ],
      "text/plain": [
       "   Unnamed: 0             Datetime             Tweet Id  \\\n",
       "0           0  2020-06-22 18:59:35  1275141399638310914   \n",
       "1           1  2020-06-22 18:58:17  1275141071316619270   \n",
       "2           2  2020-06-22 18:58:00  1275141003050135553   \n",
       "3           3  2020-06-22 18:57:00  1275140748401401859   \n",
       "4           4  2020-06-22 18:54:42  1275140171483226115   \n",
       "\n",
       "                                                Text  \n",
       "0  RT @realDonaldTrump: RIGGED 2020 ELECTION: MIL...  \n",
       "1  RT @realDonaldTrump: Barr: Mail-in Ballots ‘Ab...  \n",
       "2  RT @realDonaldTrump: RIGGED 2020 ELECTION: MIL...  \n",
       "3  RT @realDonaldTrump: Because of MAIL-IN BALLOT...  \n",
       "4  RT @ekww11: OKLAHOMA ⛅⚡\\n\\nPrimary Election 🇺🇸...  "
      ]
     },
     "execution_count": 23,
     "metadata": {},
     "output_type": "execute_result"
    }
   ],
   "source": [
    "vds = pd.read_csv(\"USA Election 2020-tweets.csv\")\n",
    "vds.head()"
   ]
  },
  {
   "cell_type": "code",
   "execution_count": 24,
   "metadata": {},
   "outputs": [
    {
     "name": "stdout",
     "output_type": "stream",
     "text": [
      "<class 'pandas.core.frame.DataFrame'>\n",
      "RangeIndex: 200 entries, 0 to 199\n",
      "Data columns (total 4 columns):\n",
      "Unnamed: 0    200 non-null int64\n",
      "Datetime      200 non-null object\n",
      "Tweet Id      200 non-null int64\n",
      "Text          200 non-null object\n",
      "dtypes: int64(2), object(2)\n",
      "memory usage: 6.4+ KB\n"
     ]
    }
   ],
   "source": [
    "vds.info()"
   ]
  },
  {
   "cell_type": "code",
   "execution_count": 25,
   "metadata": {},
   "outputs": [
    {
     "data": {
      "text/plain": [
       "(200, 4)"
      ]
     },
     "execution_count": 25,
     "metadata": {},
     "output_type": "execute_result"
    }
   ],
   "source": [
    "vds.shape"
   ]
  },
  {
   "cell_type": "code",
   "execution_count": 26,
   "metadata": {},
   "outputs": [
    {
     "data": {
      "text/plain": [
       "(200, 4)"
      ]
     },
     "execution_count": 26,
     "metadata": {},
     "output_type": "execute_result"
    }
   ],
   "source": [
    "vds.dropna(axis = 0,inplace = True)\n",
    "vds.shape"
   ]
  },
  {
   "cell_type": "code",
   "execution_count": 28,
   "metadata": {},
   "outputs": [
    {
     "data": {
      "text/html": [
       "<div>\n",
       "<style scoped>\n",
       "    .dataframe tbody tr th:only-of-type {\n",
       "        vertical-align: middle;\n",
       "    }\n",
       "\n",
       "    .dataframe tbody tr th {\n",
       "        vertical-align: top;\n",
       "    }\n",
       "\n",
       "    .dataframe thead th {\n",
       "        text-align: right;\n",
       "    }\n",
       "</style>\n",
       "<table border=\"1\" class=\"dataframe\">\n",
       "  <thead>\n",
       "    <tr style=\"text-align: right;\">\n",
       "      <th></th>\n",
       "      <th>Unnamed: 0</th>\n",
       "      <th>Datetime</th>\n",
       "      <th>Tweet Id</th>\n",
       "      <th>Text</th>\n",
       "    </tr>\n",
       "  </thead>\n",
       "  <tbody>\n",
       "    <tr>\n",
       "      <th>0</th>\n",
       "      <td>0</td>\n",
       "      <td>2020-06-22 18:59:35</td>\n",
       "      <td>1275141399638310914</td>\n",
       "      <td>RT @realDonaldTrump: RIGGED 2020 ELECTION: MIL...</td>\n",
       "    </tr>\n",
       "    <tr>\n",
       "      <th>1</th>\n",
       "      <td>1</td>\n",
       "      <td>2020-06-22 18:58:17</td>\n",
       "      <td>1275141071316619270</td>\n",
       "      <td>RT @realDonaldTrump: Barr: Mail-in Ballots ‘Ab...</td>\n",
       "    </tr>\n",
       "    <tr>\n",
       "      <th>2</th>\n",
       "      <td>2</td>\n",
       "      <td>2020-06-22 18:58:00</td>\n",
       "      <td>1275141003050135553</td>\n",
       "      <td>RT @realDonaldTrump: RIGGED 2020 ELECTION: MIL...</td>\n",
       "    </tr>\n",
       "    <tr>\n",
       "      <th>3</th>\n",
       "      <td>3</td>\n",
       "      <td>2020-06-22 18:57:00</td>\n",
       "      <td>1275140748401401859</td>\n",
       "      <td>RT @realDonaldTrump: Because MAIL-IN BALLOTS, ...</td>\n",
       "    </tr>\n",
       "    <tr>\n",
       "      <th>4</th>\n",
       "      <td>4</td>\n",
       "      <td>2020-06-22 18:54:42</td>\n",
       "      <td>1275140171483226115</td>\n",
       "      <td>RT @ekww11: OKLAHOMA ⛅⚡ Primary Election 🇺🇸 Ju...</td>\n",
       "    </tr>\n",
       "  </tbody>\n",
       "</table>\n",
       "</div>"
      ],
      "text/plain": [
       "   Unnamed: 0             Datetime             Tweet Id  \\\n",
       "0           0  2020-06-22 18:59:35  1275141399638310914   \n",
       "1           1  2020-06-22 18:58:17  1275141071316619270   \n",
       "2           2  2020-06-22 18:58:00  1275141003050135553   \n",
       "3           3  2020-06-22 18:57:00  1275140748401401859   \n",
       "4           4  2020-06-22 18:54:42  1275140171483226115   \n",
       "\n",
       "                                                Text  \n",
       "0  RT @realDonaldTrump: RIGGED 2020 ELECTION: MIL...  \n",
       "1  RT @realDonaldTrump: Barr: Mail-in Ballots ‘Ab...  \n",
       "2  RT @realDonaldTrump: RIGGED 2020 ELECTION: MIL...  \n",
       "3  RT @realDonaldTrump: Because MAIL-IN BALLOTS, ...  \n",
       "4  RT @ekww11: OKLAHOMA ⛅⚡ Primary Election 🇺🇸 Ju...  "
      ]
     },
     "execution_count": 28,
     "metadata": {},
     "output_type": "execute_result"
    }
   ],
   "source": [
    "\n",
    "#removal of stop words\n",
    "import nltk #nlp library\n",
    "from nltk.corpus import stopwords\n",
    "stop = stopwords.words(\"english\")\n",
    "vds['Text'] = vds['Text'].apply(lambda x: \" \".join([word for word in x.split() if word not in (stop)]))\n",
    "vds.head()"
   ]
  },
  {
   "cell_type": "code",
   "execution_count": 30,
   "metadata": {},
   "outputs": [
    {
     "data": {
      "text/html": [
       "<div>\n",
       "<style scoped>\n",
       "    .dataframe tbody tr th:only-of-type {\n",
       "        vertical-align: middle;\n",
       "    }\n",
       "\n",
       "    .dataframe tbody tr th {\n",
       "        vertical-align: top;\n",
       "    }\n",
       "\n",
       "    .dataframe thead th {\n",
       "        text-align: right;\n",
       "    }\n",
       "</style>\n",
       "<table border=\"1\" class=\"dataframe\">\n",
       "  <thead>\n",
       "    <tr style=\"text-align: right;\">\n",
       "      <th></th>\n",
       "      <th>Unnamed: 0</th>\n",
       "      <th>Datetime</th>\n",
       "      <th>Tweet Id</th>\n",
       "      <th>Text</th>\n",
       "    </tr>\n",
       "  </thead>\n",
       "  <tbody>\n",
       "    <tr>\n",
       "      <th>0</th>\n",
       "      <td>0</td>\n",
       "      <td>2020-06-22 18:59:35</td>\n",
       "      <td>1275141399638310914</td>\n",
       "      <td>RT @realdonaldtrump: rig 2020 election: millio...</td>\n",
       "    </tr>\n",
       "    <tr>\n",
       "      <th>1</th>\n",
       "      <td>1</td>\n",
       "      <td>2020-06-22 18:58:17</td>\n",
       "      <td>1275141071316619270</td>\n",
       "      <td>RT @realdonaldtrump: barr: mail-in ballot ‘abs...</td>\n",
       "    </tr>\n",
       "    <tr>\n",
       "      <th>2</th>\n",
       "      <td>2</td>\n",
       "      <td>2020-06-22 18:58:00</td>\n",
       "      <td>1275141003050135553</td>\n",
       "      <td>RT @realdonaldtrump: rig 2020 election: millio...</td>\n",
       "    </tr>\n",
       "    <tr>\n",
       "      <th>3</th>\n",
       "      <td>3</td>\n",
       "      <td>2020-06-22 18:57:00</td>\n",
       "      <td>1275140748401401859</td>\n",
       "      <td>RT @realdonaldtrump: becaus mail-in ballots, 2...</td>\n",
       "    </tr>\n",
       "    <tr>\n",
       "      <th>4</th>\n",
       "      <td>4</td>\n",
       "      <td>2020-06-22 18:54:42</td>\n",
       "      <td>1275140171483226115</td>\n",
       "      <td>RT @ekww11: oklahoma ⛅⚡ primari elect 🇺🇸 june ...</td>\n",
       "    </tr>\n",
       "  </tbody>\n",
       "</table>\n",
       "</div>"
      ],
      "text/plain": [
       "   Unnamed: 0             Datetime             Tweet Id  \\\n",
       "0           0  2020-06-22 18:59:35  1275141399638310914   \n",
       "1           1  2020-06-22 18:58:17  1275141071316619270   \n",
       "2           2  2020-06-22 18:58:00  1275141003050135553   \n",
       "3           3  2020-06-22 18:57:00  1275140748401401859   \n",
       "4           4  2020-06-22 18:54:42  1275140171483226115   \n",
       "\n",
       "                                                Text  \n",
       "0  RT @realdonaldtrump: rig 2020 election: millio...  \n",
       "1  RT @realdonaldtrump: barr: mail-in ballot ‘abs...  \n",
       "2  RT @realdonaldtrump: rig 2020 election: millio...  \n",
       "3  RT @realdonaldtrump: becaus mail-in ballots, 2...  \n",
       "4  RT @ekww11: oklahoma ⛅⚡ primari elect 🇺🇸 june ...  "
      ]
     },
     "execution_count": 30,
     "metadata": {},
     "output_type": "execute_result"
    }
   ],
   "source": [
    "#Stemming\n",
    "from nltk.stem import PorterStemmer\n",
    "ps = PorterStemmer()\n",
    "vds['Text'] = vds['Text'].apply(lambda x : ' '.join([ps.stem(word) for word in x.split()]))\n",
    "vds.head()"
   ]
  },
  {
   "cell_type": "code",
   "execution_count": 31,
   "metadata": {},
   "outputs": [
    {
     "data": {
      "text/html": [
       "<div>\n",
       "<style scoped>\n",
       "    .dataframe tbody tr th:only-of-type {\n",
       "        vertical-align: middle;\n",
       "    }\n",
       "\n",
       "    .dataframe tbody tr th {\n",
       "        vertical-align: top;\n",
       "    }\n",
       "\n",
       "    .dataframe thead th {\n",
       "        text-align: right;\n",
       "    }\n",
       "</style>\n",
       "<table border=\"1\" class=\"dataframe\">\n",
       "  <thead>\n",
       "    <tr style=\"text-align: right;\">\n",
       "      <th></th>\n",
       "      <th>Unnamed: 0</th>\n",
       "      <th>Datetime</th>\n",
       "      <th>Tweet Id</th>\n",
       "      <th>Text</th>\n",
       "    </tr>\n",
       "  </thead>\n",
       "  <tbody>\n",
       "    <tr>\n",
       "      <th>0</th>\n",
       "      <td>0</td>\n",
       "      <td>2020-06-22 18:59:35</td>\n",
       "      <td>1275141399638310914</td>\n",
       "      <td>RT @realdonaldtrump: rig 2020 election: millio...</td>\n",
       "    </tr>\n",
       "    <tr>\n",
       "      <th>1</th>\n",
       "      <td>1</td>\n",
       "      <td>2020-06-22 18:58:17</td>\n",
       "      <td>1275141071316619270</td>\n",
       "      <td>RT @realdonaldtrump: barr: mail-in ballot ‘abs...</td>\n",
       "    </tr>\n",
       "    <tr>\n",
       "      <th>2</th>\n",
       "      <td>2</td>\n",
       "      <td>2020-06-22 18:58:00</td>\n",
       "      <td>1275141003050135553</td>\n",
       "      <td>RT @realdonaldtrump: rig 2020 election: millio...</td>\n",
       "    </tr>\n",
       "    <tr>\n",
       "      <th>3</th>\n",
       "      <td>3</td>\n",
       "      <td>2020-06-22 18:57:00</td>\n",
       "      <td>1275140748401401859</td>\n",
       "      <td>RT @realdonaldtrump: becaus mail-in ballots, 2...</td>\n",
       "    </tr>\n",
       "    <tr>\n",
       "      <th>4</th>\n",
       "      <td>4</td>\n",
       "      <td>2020-06-22 18:54:42</td>\n",
       "      <td>1275140171483226115</td>\n",
       "      <td>RT @ekww11: oklahoma ⛅⚡ primari elect 🇺🇸 june ...</td>\n",
       "    </tr>\n",
       "  </tbody>\n",
       "</table>\n",
       "</div>"
      ],
      "text/plain": [
       "   Unnamed: 0             Datetime             Tweet Id  \\\n",
       "0           0  2020-06-22 18:59:35  1275141399638310914   \n",
       "1           1  2020-06-22 18:58:17  1275141071316619270   \n",
       "2           2  2020-06-22 18:58:00  1275141003050135553   \n",
       "3           3  2020-06-22 18:57:00  1275140748401401859   \n",
       "4           4  2020-06-22 18:54:42  1275140171483226115   \n",
       "\n",
       "                                                Text  \n",
       "0  RT @realdonaldtrump: rig 2020 election: millio...  \n",
       "1  RT @realdonaldtrump: barr: mail-in ballot ‘abs...  \n",
       "2  RT @realdonaldtrump: rig 2020 election: millio...  \n",
       "3  RT @realdonaldtrump: becaus mail-in ballots, 2...  \n",
       "4  RT @ekww11: oklahoma ⛅⚡ primari elect 🇺🇸 june ...  "
      ]
     },
     "execution_count": 31,
     "metadata": {},
     "output_type": "execute_result"
    }
   ],
   "source": [
    "#Lemmatization\n",
    "from nltk.stem import WordNetLemmatizer\n",
    "lemma = WordNetLemmatizer()\n",
    "vds['Text'] = vds['Text'].apply(lambda x : ' '.join([lemma.lemmatize(word) for word in x.split()]))\n",
    "vds.head()"
   ]
  },
  {
   "cell_type": "code",
   "execution_count": 37,
   "metadata": {},
   "outputs": [
    {
     "data": {
      "text/html": [
       "<div>\n",
       "<style scoped>\n",
       "    .dataframe tbody tr th:only-of-type {\n",
       "        vertical-align: middle;\n",
       "    }\n",
       "\n",
       "    .dataframe tbody tr th {\n",
       "        vertical-align: top;\n",
       "    }\n",
       "\n",
       "    .dataframe thead th {\n",
       "        text-align: right;\n",
       "    }\n",
       "</style>\n",
       "<table border=\"1\" class=\"dataframe\">\n",
       "  <thead>\n",
       "    <tr style=\"text-align: right;\">\n",
       "      <th></th>\n",
       "      <th>Unnamed: 0</th>\n",
       "      <th>Datetime</th>\n",
       "      <th>Tweet Id</th>\n",
       "      <th>Text</th>\n",
       "    </tr>\n",
       "  </thead>\n",
       "  <tbody>\n",
       "    <tr>\n",
       "      <th>0</th>\n",
       "      <td>0</td>\n",
       "      <td>2020-06-22 18:59:35</td>\n",
       "      <td>1275141399638310914</td>\n",
       "      <td>rig  election  million OF mail in ballot w...</td>\n",
       "    </tr>\n",
       "    <tr>\n",
       "      <th>1</th>\n",
       "      <td>1</td>\n",
       "      <td>2020-06-22 18:58:17</td>\n",
       "      <td>1275141071316619270</td>\n",
       "      <td>barr  mail in ballot  absolut open floodga...</td>\n",
       "    </tr>\n",
       "    <tr>\n",
       "      <th>2</th>\n",
       "      <td>2</td>\n",
       "      <td>2020-06-22 18:58:00</td>\n",
       "      <td>1275141003050135553</td>\n",
       "      <td>rig  election  million OF mail in ballot w...</td>\n",
       "    </tr>\n",
       "    <tr>\n",
       "      <th>3</th>\n",
       "      <td>3</td>\n",
       "      <td>2020-06-22 18:57:00</td>\n",
       "      <td>1275140748401401859</td>\n",
       "      <td>becaus mail in ballots   rig elect nation ...</td>\n",
       "    </tr>\n",
       "    <tr>\n",
       "      <th>4</th>\n",
       "      <td>4</td>\n",
       "      <td>2020-06-22 18:54:42</td>\n",
       "      <td>1275140171483226115</td>\n",
       "      <td>ekww  oklahoma    primari elect    june    a...</td>\n",
       "    </tr>\n",
       "  </tbody>\n",
       "</table>\n",
       "</div>"
      ],
      "text/plain": [
       "   Unnamed: 0             Datetime             Tweet Id  \\\n",
       "0           0  2020-06-22 18:59:35  1275141399638310914   \n",
       "1           1  2020-06-22 18:58:17  1275141071316619270   \n",
       "2           2  2020-06-22 18:58:00  1275141003050135553   \n",
       "3           3  2020-06-22 18:57:00  1275140748401401859   \n",
       "4           4  2020-06-22 18:54:42  1275140171483226115   \n",
       "\n",
       "                                                Text  \n",
       "0      rig  election  million OF mail in ballot w...  \n",
       "1      barr  mail in ballot  absolut open floodga...  \n",
       "2      rig  election  million OF mail in ballot w...  \n",
       "3      becaus mail in ballots   rig elect nation ...  \n",
       "4    ekww  oklahoma    primari elect    june    a...  "
      ]
     },
     "execution_count": 37,
     "metadata": {},
     "output_type": "execute_result"
    }
   ],
   "source": [
    "#removing punctuation\n",
    "import re\n",
    "def remove_punct(text):\n",
    "    text = re.sub('RT [@a-z0-9./]:+','',text)\n",
    "    text = re.sub('RT','',text)\n",
    "    text = re.sub('realdonaldtrump','',text)\n",
    "    text = re.sub('[0-9]', '',text) #removes numbers\n",
    "    text = re.sub(\"[^a-zA-Z0-9]\", \" \",text) #removes special characters\n",
    "    return text\n",
    "vds['Text'] = vds['Text'].apply(remove_punct)\n",
    "vds.head()"
   ]
  },
  {
   "cell_type": "code",
   "execution_count": 39,
   "metadata": {},
   "outputs": [
    {
     "data": {
      "text/plain": [
       "0        fig  election  million of mail in ballot w...\n",
       "1        bare  mail in ballot  absolute open floodg...\n",
       "2        fig  election  million of mail in ballot w...\n",
       "3        because mail in ballots   fig elect nation...\n",
       "4      www  oklahoma    primary elect    june    ar...\n",
       "Name: Text, dtype: object"
      ]
     },
     "execution_count": 39,
     "metadata": {},
     "output_type": "execute_result"
    }
   ],
   "source": [
    "#Spell correction\n",
    "from textblob import TextBlob\n",
    "vds['Text'][:5].apply(lambda x: str(TextBlob(x).correct()))"
   ]
  },
  {
   "cell_type": "code",
   "execution_count": 40,
   "metadata": {},
   "outputs": [
    {
     "data": {
      "text/html": [
       "<div>\n",
       "<style scoped>\n",
       "    .dataframe tbody tr th:only-of-type {\n",
       "        vertical-align: middle;\n",
       "    }\n",
       "\n",
       "    .dataframe tbody tr th {\n",
       "        vertical-align: top;\n",
       "    }\n",
       "\n",
       "    .dataframe thead th {\n",
       "        text-align: right;\n",
       "    }\n",
       "</style>\n",
       "<table border=\"1\" class=\"dataframe\">\n",
       "  <thead>\n",
       "    <tr style=\"text-align: right;\">\n",
       "      <th></th>\n",
       "      <th>Unnamed: 0</th>\n",
       "      <th>Datetime</th>\n",
       "      <th>Tweet Id</th>\n",
       "      <th>Text</th>\n",
       "      <th>Tweet_tokenized</th>\n",
       "    </tr>\n",
       "  </thead>\n",
       "  <tbody>\n",
       "    <tr>\n",
       "      <th>0</th>\n",
       "      <td>0</td>\n",
       "      <td>2020-06-22 18:59:35</td>\n",
       "      <td>1275141399638310914</td>\n",
       "      <td>rig  election  million OF mail in ballot w...</td>\n",
       "      <td>[rig, election, million, OF, mail, in, ballot,...</td>\n",
       "    </tr>\n",
       "    <tr>\n",
       "      <th>1</th>\n",
       "      <td>1</td>\n",
       "      <td>2020-06-22 18:58:17</td>\n",
       "      <td>1275141071316619270</td>\n",
       "      <td>barr  mail in ballot  absolut open floodga...</td>\n",
       "      <td>[barr, mail, in, ballot, absolut, open, floodg...</td>\n",
       "    </tr>\n",
       "    <tr>\n",
       "      <th>2</th>\n",
       "      <td>2</td>\n",
       "      <td>2020-06-22 18:58:00</td>\n",
       "      <td>1275141003050135553</td>\n",
       "      <td>rig  election  million OF mail in ballot w...</td>\n",
       "      <td>[rig, election, million, OF, mail, in, ballot,...</td>\n",
       "    </tr>\n",
       "    <tr>\n",
       "      <th>3</th>\n",
       "      <td>3</td>\n",
       "      <td>2020-06-22 18:57:00</td>\n",
       "      <td>1275140748401401859</td>\n",
       "      <td>becaus mail in ballots   rig elect nation ...</td>\n",
       "      <td>[becaus, mail, in, ballots, rig, elect, nation...</td>\n",
       "    </tr>\n",
       "    <tr>\n",
       "      <th>4</th>\n",
       "      <td>4</td>\n",
       "      <td>2020-06-22 18:54:42</td>\n",
       "      <td>1275140171483226115</td>\n",
       "      <td>ekww  oklahoma    primari elect    june    a...</td>\n",
       "      <td>[ekww, oklahoma, primari, elect, june, are, re...</td>\n",
       "    </tr>\n",
       "  </tbody>\n",
       "</table>\n",
       "</div>"
      ],
      "text/plain": [
       "   Unnamed: 0             Datetime             Tweet Id  \\\n",
       "0           0  2020-06-22 18:59:35  1275141399638310914   \n",
       "1           1  2020-06-22 18:58:17  1275141071316619270   \n",
       "2           2  2020-06-22 18:58:00  1275141003050135553   \n",
       "3           3  2020-06-22 18:57:00  1275140748401401859   \n",
       "4           4  2020-06-22 18:54:42  1275140171483226115   \n",
       "\n",
       "                                                Text  \\\n",
       "0      rig  election  million OF mail in ballot w...   \n",
       "1      barr  mail in ballot  absolut open floodga...   \n",
       "2      rig  election  million OF mail in ballot w...   \n",
       "3      becaus mail in ballots   rig elect nation ...   \n",
       "4    ekww  oklahoma    primari elect    june    a...   \n",
       "\n",
       "                                     Tweet_tokenized  \n",
       "0  [rig, election, million, OF, mail, in, ballot,...  \n",
       "1  [barr, mail, in, ballot, absolut, open, floodg...  \n",
       "2  [rig, election, million, OF, mail, in, ballot,...  \n",
       "3  [becaus, mail, in, ballots, rig, elect, nation...  \n",
       "4  [ekww, oklahoma, primari, elect, june, are, re...  "
      ]
     },
     "execution_count": 40,
     "metadata": {},
     "output_type": "execute_result"
    }
   ],
   "source": [
    "#tokenizing\n",
    "def tokenization(text):\n",
    "    return text.split()\n",
    "\n",
    "vds['Tweet_tokenized'] = vds['Text'].apply(tokenization)\n",
    "vds.head()"
   ]
  },
  {
   "cell_type": "code",
   "execution_count": 49,
   "metadata": {},
   "outputs": [],
   "source": [
    "from sklearn.feature_extraction.text import TfidfVectorizer  \n",
    "tfidfconverter = TfidfVectorizer(max_features=379, max_df=0.7)  \n",
    "x_valid = tfidfconverter.fit_transform(vds['Text']).toarray()"
   ]
  },
  {
   "cell_type": "code",
   "execution_count": 50,
   "metadata": {},
   "outputs": [
    {
     "data": {
      "text/plain": [
       "array([2, 0, 2, 2, 1, 1, 1, 1, 1, 1, 1, 1, 2, 2, 2, 2, 2, 2, 2, 2, 2, 0,\n",
       "       2, 1, 0, 0, 2, 1, 1, 0, 1, 0, 1, 1, 2, 1, 0, 1, 1, 1, 2, 2, 0, 2,\n",
       "       2, 2, 2, 1, 2, 1, 1, 1, 1, 1, 2, 2, 0, 2, 2, 2, 1, 1, 2, 1, 2, 1,\n",
       "       0, 1, 2, 1, 1, 0, 2, 2, 1, 2, 1, 2, 2, 2, 0, 1, 1, 2, 2, 2, 1, 2,\n",
       "       1, 2, 2, 1, 2, 2, 2, 2, 2, 2, 2, 0, 2, 0, 2, 2, 1, 1, 1, 1, 1, 1,\n",
       "       1, 1, 2, 2, 2, 2, 2, 2, 2, 2, 2, 0, 2, 1, 0, 0, 2, 1, 1, 0, 1, 0,\n",
       "       1, 1, 2, 1, 0, 1, 1, 1, 2, 2, 0, 2, 2, 2, 2, 1, 2, 1, 1, 1, 1, 1,\n",
       "       2, 2, 0, 2, 2, 2, 1, 1, 2, 1, 2, 1, 0, 1, 2, 1, 1, 0, 2, 2, 1, 2,\n",
       "       1, 2, 2, 2, 0, 1, 1, 2, 2, 2, 1, 2, 1, 2, 2, 1, 2, 2, 2, 2, 2, 2,\n",
       "       2, 0], dtype=int64)"
      ]
     },
     "execution_count": 50,
     "metadata": {},
     "output_type": "execute_result"
    }
   ],
   "source": [
    "import pickle #basically should contain all the trained models that can be used again( to avoid reloading of models)\n",
    "  \n",
    "# Save the trained model as a pickle string. \n",
    "saved_model = pickle.dumps(lr) \n",
    "  \n",
    "# Load the pickled model \n",
    "lr_from_pickle = pickle.loads(saved_model) \n",
    "  \n",
    "# Use the loaded pickled model to make predictions \n",
    "y_pred = lr_from_pickle.predict(x_valid) \n",
    "y_pred"
   ]
  },
  {
   "cell_type": "code",
   "execution_count": 51,
   "metadata": {},
   "outputs": [
    {
     "data": {
      "text/html": [
       "<div>\n",
       "<style scoped>\n",
       "    .dataframe tbody tr th:only-of-type {\n",
       "        vertical-align: middle;\n",
       "    }\n",
       "\n",
       "    .dataframe tbody tr th {\n",
       "        vertical-align: top;\n",
       "    }\n",
       "\n",
       "    .dataframe thead th {\n",
       "        text-align: right;\n",
       "    }\n",
       "</style>\n",
       "<table border=\"1\" class=\"dataframe\">\n",
       "  <thead>\n",
       "    <tr style=\"text-align: right;\">\n",
       "      <th></th>\n",
       "      <th>Unnamed: 0</th>\n",
       "      <th>Datetime</th>\n",
       "      <th>Tweet Id</th>\n",
       "      <th>Text</th>\n",
       "      <th>Tweet_tokenized</th>\n",
       "      <th>sentiment</th>\n",
       "    </tr>\n",
       "  </thead>\n",
       "  <tbody>\n",
       "    <tr>\n",
       "      <th>0</th>\n",
       "      <td>0</td>\n",
       "      <td>2020-06-22 18:59:35</td>\n",
       "      <td>1275141399638310914</td>\n",
       "      <td>rig  election  million OF mail in ballot w...</td>\n",
       "      <td>[rig, election, million, OF, mail, in, ballot,...</td>\n",
       "      <td>2</td>\n",
       "    </tr>\n",
       "    <tr>\n",
       "      <th>1</th>\n",
       "      <td>1</td>\n",
       "      <td>2020-06-22 18:58:17</td>\n",
       "      <td>1275141071316619270</td>\n",
       "      <td>barr  mail in ballot  absolut open floodga...</td>\n",
       "      <td>[barr, mail, in, ballot, absolut, open, floodg...</td>\n",
       "      <td>0</td>\n",
       "    </tr>\n",
       "    <tr>\n",
       "      <th>2</th>\n",
       "      <td>2</td>\n",
       "      <td>2020-06-22 18:58:00</td>\n",
       "      <td>1275141003050135553</td>\n",
       "      <td>rig  election  million OF mail in ballot w...</td>\n",
       "      <td>[rig, election, million, OF, mail, in, ballot,...</td>\n",
       "      <td>2</td>\n",
       "    </tr>\n",
       "    <tr>\n",
       "      <th>3</th>\n",
       "      <td>3</td>\n",
       "      <td>2020-06-22 18:57:00</td>\n",
       "      <td>1275140748401401859</td>\n",
       "      <td>becaus mail in ballots   rig elect nation ...</td>\n",
       "      <td>[becaus, mail, in, ballots, rig, elect, nation...</td>\n",
       "      <td>2</td>\n",
       "    </tr>\n",
       "    <tr>\n",
       "      <th>4</th>\n",
       "      <td>4</td>\n",
       "      <td>2020-06-22 18:54:42</td>\n",
       "      <td>1275140171483226115</td>\n",
       "      <td>ekww  oklahoma    primari elect    june    a...</td>\n",
       "      <td>[ekww, oklahoma, primari, elect, june, are, re...</td>\n",
       "      <td>1</td>\n",
       "    </tr>\n",
       "  </tbody>\n",
       "</table>\n",
       "</div>"
      ],
      "text/plain": [
       "   Unnamed: 0             Datetime             Tweet Id  \\\n",
       "0           0  2020-06-22 18:59:35  1275141399638310914   \n",
       "1           1  2020-06-22 18:58:17  1275141071316619270   \n",
       "2           2  2020-06-22 18:58:00  1275141003050135553   \n",
       "3           3  2020-06-22 18:57:00  1275140748401401859   \n",
       "4           4  2020-06-22 18:54:42  1275140171483226115   \n",
       "\n",
       "                                                Text  \\\n",
       "0      rig  election  million OF mail in ballot w...   \n",
       "1      barr  mail in ballot  absolut open floodga...   \n",
       "2      rig  election  million OF mail in ballot w...   \n",
       "3      becaus mail in ballots   rig elect nation ...   \n",
       "4    ekww  oklahoma    primari elect    june    a...   \n",
       "\n",
       "                                     Tweet_tokenized  sentiment  \n",
       "0  [rig, election, million, OF, mail, in, ballot,...          2  \n",
       "1  [barr, mail, in, ballot, absolut, open, floodg...          0  \n",
       "2  [rig, election, million, OF, mail, in, ballot,...          2  \n",
       "3  [becaus, mail, in, ballots, rig, elect, nation...          2  \n",
       "4  [ekww, oklahoma, primari, elect, june, are, re...          1  "
      ]
     },
     "execution_count": 51,
     "metadata": {},
     "output_type": "execute_result"
    }
   ],
   "source": [
    "vds['sentiment']=pd.Series(y_pred)\n",
    "#del vds['Tweet_tokenized']\n",
    "vds.head()"
   ]
  },
  {
   "cell_type": "code",
   "execution_count": 52,
   "metadata": {},
   "outputs": [],
   "source": [
    "vds.sentiment[vds.sentiment == 1] = 'positive'\n",
    "vds.sentiment[vds.sentiment == 0] = 'neutral'\n",
    "vds.sentiment[vds.sentiment == 2] = 'negative'\n",
    "vds['sentiment']\n",
    "vds.to_csv('Election labelled.csv')"
   ]
  },
  {
   "cell_type": "code",
   "execution_count": null,
   "metadata": {},
   "outputs": [],
   "source": []
  }
 ],
 "metadata": {
  "kernelspec": {
   "display_name": "Python 3",
   "language": "python",
   "name": "python3"
  },
  "language_info": {
   "codemirror_mode": {
    "name": "ipython",
    "version": 3
   },
   "file_extension": ".py",
   "mimetype": "text/x-python",
   "name": "python",
   "nbconvert_exporter": "python",
   "pygments_lexer": "ipython3",
   "version": "3.7.3"
  }
 },
 "nbformat": 4,
 "nbformat_minor": 2
}
